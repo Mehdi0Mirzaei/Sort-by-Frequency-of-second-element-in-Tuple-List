{
 "cells": [
  {
   "cell_type": "code",
   "execution_count": 25,
   "id": "1a9665cb",
   "metadata": {},
   "outputs": [
    {
     "name": "stdout",
     "output_type": "stream",
     "text": [
      "The original list is : [(6, 5), (2, 7), (2, 5), (8, 7), (9, 8), (3, 7)]\n",
      "Sorted List of tuples : [(2, 7), (8, 7), (3, 7), (6, 5), (2, 5), (9, 8)]\n"
     ]
    }
   ],
   "source": [
    "import numpy as np\n",
    " \n",
    "# initializing list\n",
    "test_list = [(6, 5), (2, 7), (2, 5), (8, 7), (9, 8), (3, 7)]\n",
    " \n",
    "# printing original list\n",
    "print(\"The original list is : \" + str(test_list))\n",
    " \n",
    "# convert the list to a numpy array\n",
    "arr = np.array(test_list)\n",
    " \n",
    "# get the frequency of each second element using numpy's unique function\n",
    "counts = np.unique(arr[:, 1], return_counts=True)\n",
    " \n",
    "# sort the indices based on the frequency of the second element using numpy's argsort function\n",
    "sorted_indices = np.argsort(-counts[1])\n",
    " \n",
    "# create an empty array to store the sorted tuples\n",
    "sorted_arr = np.empty_like(arr)\n",
    " \n",
    "# iterate over the sorted indices and fill in the sorted array\n",
    "start = 0\n",
    "for i in sorted_indices:\n",
    "    freq = counts[1][i]\n",
    "    indices = np.where(arr[:, 1] == counts[0][i])[0]\n",
    "    end = start + freq\n",
    "    sorted_arr[start:end] = arr[indices]\n",
    "    start = end\n",
    " # convert the sorted array back to a list of tuples\n",
    "res = [tuple(row) for row in sorted_arr]\n",
    " \n",
    "# printing results\n",
    "print(\"Sorted List of tuples : \" + str(res))"
   ]
  },
  {
   "cell_type": "code",
   "execution_count": null,
   "id": "dc0f2f81",
   "metadata": {},
   "outputs": [],
   "source": []
  }
 ],
 "metadata": {
  "kernelspec": {
   "display_name": "Python 3 (ipykernel)",
   "language": "python",
   "name": "python3"
  },
  "language_info": {
   "codemirror_mode": {
    "name": "ipython",
    "version": 3
   },
   "file_extension": ".py",
   "mimetype": "text/x-python",
   "name": "python",
   "nbconvert_exporter": "python",
   "pygments_lexer": "ipython3",
   "version": "3.9.13"
  }
 },
 "nbformat": 4,
 "nbformat_minor": 5
}
